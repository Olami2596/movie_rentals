{
 "cells": [
  {
   "cell_type": "markdown",
   "id": "b4ae5707-109f-4cd6-8168-88cac0179d6b",
   "metadata": {},
   "source": [
    "![dvd_image](dvd_image.jpg)\n",
    "\n",
    "A DVD rental company needs your help! They want to figure out how many days a customer will rent a DVD for based on some features and has approached you for help. They want you to try out some regression models which will help predict the number of days a customer will rent a DVD for. The company wants a model which yeilds a MSE of 3 or less on a test set. The model you make will help the company become more efficient inventory planning.\n",
    "\n",
    "The data they provided is in the csv file `rental_info.csv`. It has the following features:\n",
    "- `\"rental_date\"`: The date (and time) the customer rents the DVD.\n",
    "- `\"return_date\"`: The date (and time) the customer returns the DVD.\n",
    "- `\"amount\"`: The amount paid by the customer for renting the DVD.\n",
    "- `\"amount_2\"`: The square of `\"amount\"`.\n",
    "- `\"rental_rate\"`: The rate at which the DVD is rented for.\n",
    "- `\"rental_rate_2\"`: The square of `\"rental_rate\"`.\n",
    "- `\"release_year\"`: The year the movie being rented was released.\n",
    "- `\"length\"`: Lenght of the movie being rented, in minuites.\n",
    "- `\"length_2\"`: The square of `\"length\"`.\n",
    "- `\"replacement_cost\"`: The amount it will cost the company to replace the DVD.\n",
    "- `\"special_features\"`: Any special features, for example trailers/deleted scenes that the DVD also has.\n",
    "- `\"NC-17\"`, `\"PG\"`, `\"PG-13\"`, `\"R\"`: These columns are dummy variables of the rating of the movie. It takes the value 1 if the move is rated as the column name and 0 otherwise. For your convinience, the reference dummy has already been dropped."
   ]
  },
  {
   "cell_type": "code",
   "execution_count": 1,
   "id": "a7ede566-910a-445c-b11a-68d192ac8506",
   "metadata": {
    "executionCancelledAt": null,
    "executionTime": 11,
    "lastExecutedAt": 1735474911741,
    "lastExecutedByKernel": "82dd7c19-bff5-47f5-8936-c3cebf9d4284",
    "lastScheduledRunId": null,
    "lastSuccessfullyExecutedCode": "import pandas as pd\nimport numpy as np\nfrom sklearn.model_selection import train_test_split, GridSearchCV\nfrom sklearn.linear_model import LinearRegression\nfrom sklearn.ensemble import RandomForestRegressor, GradientBoostingRegressor, AdaBoostRegressor\nfrom sklearn.tree import DecisionTreeRegressor\nfrom xgboost import XGBRegressor\nfrom sklearn.metrics import r2_score, mean_squared_error"
   },
   "outputs": [],
   "source": [
    "import pandas as pd\n",
    "import numpy as np\n",
    "from sklearn.model_selection import train_test_split, GridSearchCV\n",
    "from sklearn.ensemble import RandomForestRegressor, GradientBoostingRegressor, AdaBoostRegressor\n",
    "from sklearn.tree import DecisionTreeRegressor\n",
    "from xgboost import XGBRegressor\n",
    "from sklearn.metrics import r2_score, mean_squared_error"
   ]
  },
  {
   "cell_type": "code",
   "execution_count": 2,
   "id": "200c21fb-0d6c-4d18-b5f0-94cb192bca3f",
   "metadata": {
    "executionCancelledAt": null,
    "executionTime": 48,
    "lastExecutedAt": 1735474911789,
    "lastExecutedByKernel": "82dd7c19-bff5-47f5-8936-c3cebf9d4284",
    "lastScheduledRunId": null,
    "lastSuccessfullyExecutedCode": "df = pd.read_csv('rental_info.csv')\ndf_copy = df.copy()  "
   },
   "outputs": [],
   "source": [
    "df = pd.read_csv('rental_info.csv')\n",
    "df_copy = df.copy()  "
   ]
  },
  {
   "cell_type": "code",
   "execution_count": 3,
   "id": "d696fd91-1648-40dd-b4e9-e0cbab0ee31d",
   "metadata": {
    "executionCancelledAt": null,
    "executionTime": 61,
    "lastExecutedAt": 1735474911851,
    "lastExecutedByKernel": "82dd7c19-bff5-47f5-8936-c3cebf9d4284",
    "lastScheduledRunId": null,
    "lastSuccessfullyExecutedCode": "# Convert date columns to datetime\ndf_copy['rental_date'] = pd.to_datetime(df_copy['rental_date'], errors='coerce')\ndf_copy['return_date'] = pd.to_datetime(df_copy['return_date'], errors='coerce')\n\n# Compute rental length in days\ndf_copy['rental_length_days'] = (df_copy['return_date'] - df_copy['rental_date']).dt.days\n\n# Feature engineering for special features\ndf_copy['deleted_scenes'] = df_copy['special_features'].str.contains('Deleted Scenes', na=False).astype(int)\ndf_copy['behind_the_scenes'] = df_copy['special_features'].str.contains('Behind the Scenes', na=False).astype(int)\n\n# Convert release year to integer\ndf_copy['release_year'] = df_copy['release_year'].astype(int)"
   },
   "outputs": [],
   "source": [
    "# Convert date columns to datetime\n",
    "df_copy['rental_date'] = pd.to_datetime(df_copy['rental_date'], errors='coerce')\n",
    "df_copy['return_date'] = pd.to_datetime(df_copy['return_date'], errors='coerce')\n",
    "\n",
    "# Compute rental length in days\n",
    "df_copy['rental_length_days'] = (df_copy['return_date'] - df_copy['rental_date']).dt.days\n",
    "\n",
    "# Feature engineering for special features\n",
    "df_copy['deleted_scenes'] = df_copy['special_features'].str.contains('Deleted Scenes', na=False).astype(int)\n",
    "df_copy['behind_the_scenes'] = df_copy['special_features'].str.contains('Behind the Scenes', na=False).astype(int)\n",
    "\n",
    "# Convert release year to integer\n",
    "df_copy['release_year'] = df_copy['release_year'].astype(int)"
   ]
  },
  {
   "cell_type": "code",
   "execution_count": 4,
   "id": "185acae7-51dc-456b-a573-d8eeab90d0bd",
   "metadata": {
    "executionCancelledAt": null,
    "executionTime": 51,
    "lastExecutedAt": 1735474911904,
    "lastExecutedByKernel": "82dd7c19-bff5-47f5-8936-c3cebf9d4284",
    "lastScheduledRunId": null,
    "lastSuccessfullyExecutedCode": "# Prepare data for modeling\ndrop_columns = [\"special_features\", \"rental_date\", \"return_date\", \"rental_length_days\"]\nX = df_copy.drop(columns=drop_columns)\ny = df_copy['rental_length_days']\n\n# Split data\nX_train, X_test, y_train, y_test = train_test_split(X, y, test_size=0.2, random_state=9)"
   },
   "outputs": [],
   "source": [
    "# Prepare data for modeling\n",
    "drop_columns = [\"special_features\", \"rental_date\", \"return_date\", \"rental_length_days\"]\n",
    "X = df_copy.drop(columns=drop_columns)\n",
    "y = df_copy['rental_length_days']\n",
    "\n",
    "# Split data\n",
    "X_train, X_test, y_train, y_test = train_test_split(X, y, test_size=0.2, random_state=9)"
   ]
  },
  {
   "cell_type": "code",
   "execution_count": 5,
   "id": "95c135a6-9734-447a-9a45-4051b56408d5",
   "metadata": {
    "executionCancelledAt": null,
    "executionTime": null,
    "lastExecutedAt": null,
    "lastExecutedByKernel": null,
    "lastScheduledRunId": null,
    "lastSuccessfullyExecutedCode": null,
    "outputsMetadata": {
     "0": {
      "height": 38,
      "type": "stream"
     }
    }
   },
   "outputs": [
    {
     "name": "stdout",
     "output_type": "stream",
     "text": [
      "Fitting 3 folds for each of 36 candidates, totalling 108 fits\n",
      "Best hyperparameters:  {'max_depth': 20, 'min_samples_split': 2, 'n_estimators': 200}\n",
      "Test Mean Squared Error (MSE): 2.0250206688633443\n",
      "Test R-squared (R2): 0.7147685678932152\n"
     ]
    }
   ],
   "source": [
    "# Random Forest hyperparameter tuning\n",
    "param_grid = {\n",
    "    'n_estimators': [50, 100, 200],\n",
    "    'max_depth': [None, 10, 20, 30],\n",
    "    'min_samples_split': [2, 5, 10]\n",
    "}\n",
    "\n",
    "rfr_cv = GridSearchCV(\n",
    "    estimator=RandomForestRegressor(random_state=9),\n",
    "    param_grid=param_grid,\n",
    "    cv=3,\n",
    "    scoring='neg_mean_squared_error',\n",
    "    n_jobs=-1,\n",
    "    verbose=1\n",
    ")\n",
    "rfr_cv.fit(X_train, y_train)\n",
    "\n",
    "# Best model\n",
    "best_rfr = rfr_cv.best_estimator_\n",
    "\n",
    "# Evaluate model\n",
    "y_pred = best_rfr.predict(X_test)\n",
    "test_mse = mean_squared_error(y_test, y_pred)\n",
    "test_r2 = r2_score(y_test, y_pred)\n",
    "\n",
    "print(\"Best hyperparameters: \", rfr_cv.best_params_)\n",
    "print(\"Test Mean Squared Error (MSE):\", test_mse)\n",
    "print(\"Test R-squared (R2):\", test_r2)"
   ]
  },
  {
   "cell_type": "code",
   "execution_count": 6,
   "id": "d3e9f288-d813-4c12-9259-7889b3f9993e",
   "metadata": {
    "executionCancelledAt": null,
    "executionTime": 61938,
    "lastExecutedAt": 1735474847119,
    "lastExecutedByKernel": "82dd7c19-bff5-47f5-8936-c3cebf9d4284",
    "lastScheduledRunId": null,
    "lastSuccessfullyExecutedCode": "from sklearn.ensemble import GradientBoostingRegressor\n\nparam_grid_gbr = {\n    'n_estimators': [50, 100, 200],\n    'learning_rate': [0.01, 0.1, 0.2],\n    'max_depth': [3, 5, 10]\n}\n\ngbr_cv = GridSearchCV(\n    estimator=GradientBoostingRegressor(random_state=9),\n    param_grid=param_grid_gbr,\n    cv=3,\n    scoring='neg_mean_squared_error',\n    n_jobs=-1,\n    verbose=1\n)\ngbr_cv.fit(X_train, y_train)\n\nbest_gbr = gbr_cv.best_estimator_\n\ny_pred_gbr = best_gbr.predict(X_test)\ntest_mse_gbr = mean_squared_error(y_test, y_pred_gbr)\ntest_r2_gbr = r2_score(y_test, y_pred_gbr)\n\nprint(\"Best hyperparameters for GradientBoostingRegressor: \", gbr_cv.best_params_)\nprint(\"Test Mean Squared Error (MSE) for GradientBoostingRegressor:\", test_mse_gbr)\nprint(\"Test R-squared (R2) for GradientBoostingRegressor:\", test_r2_gbr)\n",
    "outputsMetadata": {
     "0": {
      "height": 101,
      "type": "stream"
     }
    }
   },
   "outputs": [
    {
     "name": "stdout",
     "output_type": "stream",
     "text": [
      "Fitting 3 folds for each of 27 candidates, totalling 81 fits\n",
      "Best hyperparameters for GradientBoostingRegressor:  {'learning_rate': 0.2, 'max_depth': 5, 'n_estimators': 200}\n",
      "Test Mean Squared Error (MSE) for GradientBoostingRegressor: 1.9350113693585484\n",
      "Test R-squared (R2) for GradientBoostingRegressor: 0.7274467009095523\n"
     ]
    }
   ],
   "source": [
    "param_grid_gbr = {\n",
    "    'n_estimators': [50, 100, 200],\n",
    "    'learning_rate': [0.01, 0.1, 0.2],\n",
    "    'max_depth': [3, 5, 10]\n",
    "}\n",
    "\n",
    "gbr_cv = GridSearchCV(\n",
    "    estimator=GradientBoostingRegressor(random_state=9),\n",
    "    param_grid=param_grid_gbr,\n",
    "    cv=3,\n",
    "    scoring='neg_mean_squared_error',\n",
    "    n_jobs=-1,\n",
    "    verbose=1\n",
    ")\n",
    "gbr_cv.fit(X_train, y_train)\n",
    "\n",
    "best_gbr = gbr_cv.best_estimator_\n",
    "\n",
    "y_pred_gbr = best_gbr.predict(X_test)\n",
    "test_mse_gbr = mean_squared_error(y_test, y_pred_gbr)\n",
    "test_r2_gbr = r2_score(y_test, y_pred_gbr)\n",
    "\n",
    "print(\"Best hyperparameters for GradientBoostingRegressor: \", gbr_cv.best_params_)\n",
    "print(\"Test Mean Squared Error (MSE) for GradientBoostingRegressor:\", test_mse_gbr)\n",
    "print(\"Test R-squared (R2) for GradientBoostingRegressor:\", test_r2_gbr)\n"
   ]
  },
  {
   "cell_type": "code",
   "execution_count": 7,
   "id": "f00b785d-6c3a-4caf-a6a4-35ee61e70102",
   "metadata": {
    "executionCancelledAt": null,
    "executionTime": 11994,
    "lastExecutedAt": 1735474859115,
    "lastExecutedByKernel": "82dd7c19-bff5-47f5-8936-c3cebf9d4284",
    "lastScheduledRunId": null,
    "lastSuccessfullyExecutedCode": "from sklearn.ensemble import AdaBoostRegressor\n\n# AdaBoost Regressor hyperparameter tuning\nparam_grid_abr = {\n    'n_estimators': [50, 100, 200],\n    'learning_rate': [0.01, 0.1, 0.5, 1.0]\n}\n\nabr_cv = GridSearchCV(\n    estimator=AdaBoostRegressor(random_state=9),\n    param_grid=param_grid_abr,\n    cv=3,\n    scoring='neg_mean_squared_error',\n    n_jobs=-1,\n    verbose=1\n)\nabr_cv.fit(X_train, y_train)\n\n# Best model\nbest_abr = abr_cv.best_estimator_\n\n# Evaluate model\ny_pred_abr = best_abr.predict(X_test)\ntest_mse_abr = mean_squared_error(y_test, y_pred_abr)\ntest_r2_abr = r2_score(y_test, y_pred_abr)\n\nprint(\"Best hyperparameters for AdaBoostRegressor: \", abr_cv.best_params_)\nprint(\"Test Mean Squared Error (MSE) for AdaBoostRegressor:\", test_mse_abr)\nprint(\"Test R-squared (R2) for AdaBoostRegressor:\", test_r2_abr)\n",
    "outputsMetadata": {
     "0": {
      "height": 101,
      "type": "stream"
     }
    }
   },
   "outputs": [
    {
     "name": "stdout",
     "output_type": "stream",
     "text": [
      "Fitting 3 folds for each of 12 candidates, totalling 36 fits\n",
      "Best hyperparameters for AdaBoostRegressor:  {'learning_rate': 0.5, 'n_estimators': 50}\n",
      "Test Mean Squared Error (MSE) for AdaBoostRegressor: 3.165301976186815\n",
      "Test R-squared (R2) for AdaBoostRegressor: 0.5541558515425068\n"
     ]
    }
   ],
   "source": [
    "param_grid_abr = {\n",
    "    'n_estimators': [50, 100, 200],\n",
    "    'learning_rate': [0.01, 0.1, 0.5, 1.0]\n",
    "}\n",
    "\n",
    "abr_cv = GridSearchCV(\n",
    "    estimator=AdaBoostRegressor(random_state=9),\n",
    "    param_grid=param_grid_abr,\n",
    "    cv=3,\n",
    "    scoring='neg_mean_squared_error',\n",
    "    n_jobs=-1,\n",
    "    verbose=1\n",
    ")\n",
    "abr_cv.fit(X_train, y_train)\n",
    "\n",
    "# Best model\n",
    "best_abr = abr_cv.best_estimator_\n",
    "\n",
    "# Evaluate model\n",
    "y_pred_abr = best_abr.predict(X_test)\n",
    "test_mse_abr = mean_squared_error(y_test, y_pred_abr)\n",
    "test_r2_abr = r2_score(y_test, y_pred_abr)\n",
    "\n",
    "print(\"Best hyperparameters for AdaBoostRegressor: \", abr_cv.best_params_)\n",
    "print(\"Test Mean Squared Error (MSE) for AdaBoostRegressor:\", test_mse_abr)\n",
    "print(\"Test R-squared (R2) for AdaBoostRegressor:\", test_r2_abr)\n"
   ]
  },
  {
   "cell_type": "code",
   "execution_count": 8,
   "id": "fe944083-0ca3-457f-95dd-f561bd602805",
   "metadata": {
    "executionCancelledAt": null,
    "executionTime": 595,
    "lastExecutedAt": 1735474859712,
    "lastExecutedByKernel": "82dd7c19-bff5-47f5-8936-c3cebf9d4284",
    "lastScheduledRunId": null,
    "lastSuccessfullyExecutedCode": "from sklearn.tree import DecisionTreeRegressor\n\n# Decision Tree Regressor hyperparameter tuning\nparam_grid_dtr = {\n    'max_depth': [None, 10, 20, 30],\n    'min_samples_split': [2, 5, 10]\n}\n\ndtr_cv = GridSearchCV(\n    estimator=DecisionTreeRegressor(random_state=9),\n    param_grid=param_grid_dtr,\n    cv=3,\n    scoring='neg_mean_squared_error',\n    n_jobs=-1,\n    verbose=1\n)\ndtr_cv.fit(X_train, y_train)\n\n# Best model\nbest_dtr = dtr_cv.best_estimator_\n\n# Evaluate model\ny_pred_dtr = best_dtr.predict(X_test)\ntest_mse_dtr = mean_squared_error(y_test, y_pred_dtr)\ntest_r2_dtr = r2_score(y_test, y_pred_dtr)\n\nprint(\"Best hyperparameters for DecisionTreeRegressor: \", dtr_cv.best_params_)\nprint(\"Test Mean Squared Error (MSE) for DecisionTreeRegressor:\", test_mse_dtr)\nprint(\"Test R-squared (R2) for DecisionTreeRegressor:\", test_r2_dtr)\n",
    "outputsMetadata": {
     "0": {
      "height": 101,
      "type": "stream"
     }
    }
   },
   "outputs": [
    {
     "name": "stdout",
     "output_type": "stream",
     "text": [
      "Fitting 3 folds for each of 12 candidates, totalling 36 fits\n",
      "Best hyperparameters for DecisionTreeRegressor:  {'max_depth': 10, 'min_samples_split': 2}\n",
      "Test Mean Squared Error (MSE) for DecisionTreeRegressor: 2.4508709814127108\n",
      "Test R-squared (R2) for DecisionTreeRegressor: 0.654786022342331\n"
     ]
    }
   ],
   "source": [
    "# Decision Tree Regressor hyperparameter tuning\n",
    "param_grid_dtr = {\n",
    "    'max_depth': [None, 10, 20, 30],\n",
    "    'min_samples_split': [2, 5, 10]\n",
    "}\n",
    "\n",
    "dtr_cv = GridSearchCV(\n",
    "    estimator=DecisionTreeRegressor(random_state=9),\n",
    "    param_grid=param_grid_dtr,\n",
    "    cv=3,\n",
    "    scoring='neg_mean_squared_error',\n",
    "    n_jobs=-1,\n",
    "    verbose=1\n",
    ")\n",
    "dtr_cv.fit(X_train, y_train)\n",
    "\n",
    "# Best model\n",
    "best_dtr = dtr_cv.best_estimator_\n",
    "\n",
    "# Evaluate model\n",
    "y_pred_dtr = best_dtr.predict(X_test)\n",
    "test_mse_dtr = mean_squared_error(y_test, y_pred_dtr)\n",
    "test_r2_dtr = r2_score(y_test, y_pred_dtr)\n",
    "\n",
    "print(\"Best hyperparameters for DecisionTreeRegressor: \", dtr_cv.best_params_)\n",
    "print(\"Test Mean Squared Error (MSE) for DecisionTreeRegressor:\", test_mse_dtr)\n",
    "print(\"Test R-squared (R2) for DecisionTreeRegressor:\", test_r2_dtr)\n"
   ]
  },
  {
   "cell_type": "code",
   "execution_count": 9,
   "id": "87392f98-cf78-4aff-a323-461a89123a5a",
   "metadata": {
    "executionCancelledAt": null,
    "executionTime": 50812,
    "lastExecutedAt": 1735474910524,
    "lastExecutedByKernel": "82dd7c19-bff5-47f5-8936-c3cebf9d4284",
    "lastScheduledRunId": null,
    "lastSuccessfullyExecutedCode": "from xgboost import XGBRegressor\n\n# XGB Regressor hyperparameter tuning\nparam_grid_xgb = {\n    'n_estimators': [50, 100, 200],\n    'learning_rate': [0.01, 0.1, 0.2],\n    'max_depth': [3, 5, 10]\n}\n\nxgb_cv = GridSearchCV(\n    estimator=XGBRegressor(random_state=9, use_label_encoder=False, eval_metric='rmse'),\n    param_grid=param_grid_xgb,\n    cv=3,\n    scoring='neg_mean_squared_error',\n    n_jobs=-1,\n    verbose=1\n)\nxgb_cv.fit(X_train, y_train)\n\n# Best model\nbest_xgb = xgb_cv.best_estimator_\n\n# Evaluate model\ny_pred_xgb = best_xgb.predict(X_test)\ntest_mse_xgb = mean_squared_error(y_test, y_pred_xgb)\ntest_r2_xgb = r2_score(y_test, y_pred_xgb)\n\nprint(\"Best hyperparameters for XGBRegressor: \", xgb_cv.best_params_)\nprint(\"Test Mean Squared Error (MSE) for XGBRegressor:\", test_mse_xgb)\nprint(\"Test R-squared (R2) for XGBRegressor:\", test_r2_xgb)\n",
    "outputsMetadata": {
     "0": {
      "height": 101,
      "type": "stream"
     }
    }
   },
   "outputs": [
    {
     "name": "stdout",
     "output_type": "stream",
     "text": [
      "Fitting 3 folds for each of 27 candidates, totalling 81 fits\n"
     ]
    },
    {
     "name": "stderr",
     "output_type": "stream",
     "text": [
      "c:\\Users\\USER\\anaconda3\\envs\\new_env\\Lib\\site-packages\\xgboost\\core.py:158: UserWarning: [14:03:34] WARNING: C:\\b\\abs_90_bwj_86a\\croot\\xgboost-split_1724073762025\\work\\src\\learner.cc:740: \n",
      "Parameters: { \"use_label_encoder\" } are not used.\n",
      "\n",
      "  warnings.warn(smsg, UserWarning)\n"
     ]
    },
    {
     "name": "stdout",
     "output_type": "stream",
     "text": [
      "Best hyperparameters for XGBRegressor:  {'learning_rate': 0.2, 'max_depth': 5, 'n_estimators': 200}\n",
      "Test Mean Squared Error (MSE) for XGBRegressor: 1.939168070855501\n",
      "Test R-squared (R2) for XGBRegressor: 0.7268612145789453\n"
     ]
    }
   ],
   "source": [
    "# XGB Regressor hyperparameter tuning\n",
    "param_grid_xgb = {\n",
    "    'n_estimators': [50, 100, 200],\n",
    "    'learning_rate': [0.01, 0.1, 0.2],\n",
    "    'max_depth': [3, 5, 10]\n",
    "}\n",
    "\n",
    "xgb_cv = GridSearchCV(\n",
    "    estimator=XGBRegressor(random_state=9, use_label_encoder=False, eval_metric='rmse'),\n",
    "    param_grid=param_grid_xgb,\n",
    "    cv=3,\n",
    "    scoring='neg_mean_squared_error',\n",
    "    n_jobs=-1,\n",
    "    verbose=1\n",
    ")\n",
    "xgb_cv.fit(X_train, y_train)\n",
    "\n",
    "# Best model\n",
    "best_xgb = xgb_cv.best_estimator_\n",
    "\n",
    "# Evaluate model\n",
    "y_pred_xgb = best_xgb.predict(X_test)\n",
    "test_mse_xgb = mean_squared_error(y_test, y_pred_xgb)\n",
    "test_r2_xgb = r2_score(y_test, y_pred_xgb)\n",
    "\n",
    "print(\"Best hyperparameters for XGBRegressor: \", xgb_cv.best_params_)\n",
    "print(\"Test Mean Squared Error (MSE) for XGBRegressor:\", test_mse_xgb)\n",
    "print(\"Test R-squared (R2) for XGBRegressor:\", test_r2_xgb)\n"
   ]
  },
  {
   "cell_type": "code",
   "execution_count": 10,
   "id": "2f30c9f7-81a5-4171-9814-40618b673c50",
   "metadata": {
    "executionCancelledAt": null,
    "executionTime": 50,
    "lastExecutedAt": 1735474910576,
    "lastExecutedByKernel": "82dd7c19-bff5-47f5-8936-c3cebf9d4284",
    "lastScheduledRunId": null,
    "lastSuccessfullyExecutedCode": "best_model = best_gbr\nbest_mse = test_mse_gbr\nprint(f\"The best model is {best_model}.\")\nprint(f\"The calculated MSE with Gradient Boosting Regressor with hyperparameter tuning is {best_mse}.\")",
    "outputsMetadata": {
     "0": {
      "height": 80,
      "type": "stream"
     }
    }
   },
   "outputs": [
    {
     "name": "stdout",
     "output_type": "stream",
     "text": [
      "The best model is GradientBoostingRegressor(learning_rate=0.2, max_depth=5, n_estimators=200,\n",
      "                          random_state=9).\n",
      "The calculated MSE with Gradient Boosting Regressor with hyperparameter tuning is 1.9350113693585484.\n"
     ]
    }
   ],
   "source": [
    "best_model = best_gbr\n",
    "best_mse = test_mse_gbr\n",
    "print(f\"The best model is {best_model}.\")\n",
    "print(f\"The calculated MSE with Gradient Boosting Regressor with hyperparameter tuning is {best_mse}.\")"
   ]
  }
 ],
 "metadata": {
  "colab": {
   "name": "Welcome to DataCamp Workspaces.ipynb",
   "provenance": []
  },
  "kernelspec": {
   "display_name": "new_env",
   "language": "python",
   "name": "python3"
  },
  "language_info": {
   "codemirror_mode": {
    "name": "ipython",
    "version": 3
   },
   "file_extension": ".py",
   "mimetype": "text/x-python",
   "name": "python",
   "nbconvert_exporter": "python",
   "pygments_lexer": "ipython3",
   "version": "3.12.4"
  }
 },
 "nbformat": 4,
 "nbformat_minor": 5
}
